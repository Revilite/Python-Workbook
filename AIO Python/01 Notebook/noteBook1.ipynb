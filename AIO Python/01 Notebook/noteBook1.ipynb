{
 "cells": [
  {
   "cell_type": "code",
   "execution_count": null,
   "metadata": {},
   "outputs": [],
   "source": [
    "x = \"Hello World\"\n",
    "s = \"Stop\"\n",
    "if(\"o\" in x):\n",
    "    print(\"the letter o is in the variable x\")\n",
    "\n",
    "if(s not in x):\n",
    "    print(\"The word Stop is not in thee variable x\")\n",
    "print(s * 3)\n",
    "print(x[4])\n",
    "print(x[3:9])\n",
    "print(min(x))\n",
    "print(max(x))\n"
   ]
  },
  {
   "cell_type": "code",
   "execution_count": 16,
   "metadata": {},
   "outputs": [
    {
     "name": "stdout",
     "output_type": "stream",
     "text": [
      "2024-10-05\n",
      "2019-12-31\n",
      "31\n",
      "12\n",
      "2019\n"
     ]
    }
   ],
   "source": [
    "import datetime as dt\n",
    "\n",
    "today = dt.date.today()\n",
    "print(today)\n",
    "\n",
    "lastOfTeens = dt.date(2019, 12, 31)\n",
    "\n",
    "print(lastOfTeens)\n",
    "print(lastOfTeens.day)\n",
    "print(lastOfTeens.month)\n",
    "print(lastOfTeens.year)\n",
    "\n"
   ]
  },
  {
   "cell_type": "code",
   "execution_count": 7,
   "metadata": {},
   "outputs": [
    {
     "name": "stdout",
     "output_type": "stream",
     "text": [
      "2024-10-07 08:27:00.778132\n",
      "23:59:59.999999\n",
      "23:59:59.999999\n",
      "11:59 PM\n",
      "23:59:59 and 999999 microseconds\n",
      "Monday, October 07 at 08:10AM\n"
     ]
    }
   ],
   "source": [
    "import datetime as time\n",
    "now = time.datetime.now()\n",
    "print(now)\n",
    "\n",
    "almostMidnight = time.time(23, 59, 59, 999999)\n",
    "print(almostMidnight)\n",
    "\n",
    "print(f\"{almostMidnight}\")\n",
    "\n",
    "newYearsEve = time.datetime(2024, 12, 31, 23, 59)\n",
    "print(f\"{newYearsEve:%I:%M %p}\")\n",
    "print(f\"{almostMidnight:%H:%M:%S and %f microseconds}\")\n",
    "print(f\"{now:%A, %B %d at %I:%m%p}\")\n"
   ]
  },
  {
   "cell_type": "code",
   "execution_count": 11,
   "metadata": {},
   "outputs": [
    {
     "name": "stdout",
     "output_type": "stream",
     "text": [
      "6:34:45\n",
      "<class 'datetime.timedelta'>\n"
     ]
    }
   ],
   "source": [
    "import datetime as dt\n",
    "startTime = dt.datetime(2024, 3, 31, 8, 0, 0)\n",
    "finishTime  = dt.datetime(2024, 3, 31,14, 34, 45)\n",
    "timeBetween =  finishTime - startTime\n",
    "print(timeBetween)\n",
    "print(type(timeBetween))"
   ]
  },
  {
   "cell_type": "code",
   "execution_count": null,
   "metadata": {},
   "outputs": [],
   "source": []
  }
 ],
 "metadata": {
  "kernelspec": {
   "display_name": "Python 3",
   "language": "python",
   "name": "python3"
  },
  "language_info": {
   "codemirror_mode": {
    "name": "ipython",
    "version": 3
   },
   "file_extension": ".py",
   "mimetype": "text/x-python",
   "name": "python",
   "nbconvert_exporter": "python",
   "pygments_lexer": "ipython3",
   "version": "3.12.7"
  }
 },
 "nbformat": 4,
 "nbformat_minor": 2
}
