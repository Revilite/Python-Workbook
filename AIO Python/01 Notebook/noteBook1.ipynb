{
 "cells": [
  {
   "cell_type": "code",
   "execution_count": null,
   "metadata": {},
   "outputs": [],
   "source": [
    "x = \"Hello World\"\n",
    "s = \"Stop\"\n",
    "if(\"o\" in x):\n",
    "    print(\"the letter o is in the variable x\")\n",
    "\n",
    "if(s not in x):\n",
    "    print(\"The word Stop is not in thee variable x\")\n",
    "print(s * 3)\n",
    "print(x[4])\n",
    "print(x[3:9])\n",
    "print(min(x))\n",
    "print(max(x))\n"
   ]
  },
  {
   "cell_type": "code",
   "execution_count": 16,
   "metadata": {},
   "outputs": [
    {
     "name": "stdout",
     "output_type": "stream",
     "text": [
      "2024-10-05\n",
      "2019-12-31\n",
      "31\n",
      "12\n",
      "2019\n"
     ]
    }
   ],
   "source": [
    "import datetime as dt\n",
    "\n",
    "today = dt.date.today()\n",
    "print(today)\n",
    "\n",
    "lastOfTeens = dt.date(2019, 12, 31)\n",
    "\n",
    "print(lastOfTeens)\n",
    "print(lastOfTeens.day)\n",
    "print(lastOfTeens.month)\n",
    "print(lastOfTeens.year)\n",
    "\n"
   ]
  },
  {
   "cell_type": "code",
   "execution_count": 36,
   "metadata": {},
   "outputs": [
    {
     "name": "stdout",
     "output_type": "stream",
     "text": [
      "21:32:32.123123\n",
      "23:59:59.999999\n",
      "23:59:59.999999\n",
      "11:59 PM\n"
     ]
    }
   ],
   "source": [
    "import datetime as time\n",
    "now = time.time(21, 32, 32, 123123)\n",
    "print(now)\n",
    "\n",
    "almostMidnight = time.time(23, 59, 59, 999999)\n",
    "print(almostMidnight)\n",
    "\n",
    "print(f\"{almostMidnight}\")\n",
    "\n",
    "newYearsEve = time.datetime(2024, 12, 31, 23, 59)\n",
    "print(f\"{newYearsEve:%I:%M %p}\")\n",
    "print(f\"{almostMidnight:%H:%M:%S and %f microseconds}\")\n"
   ]
  }
 ],
 "metadata": {
  "kernelspec": {
   "display_name": "Python 3",
   "language": "python",
   "name": "python3"
  },
  "language_info": {
   "codemirror_mode": {
    "name": "ipython",
    "version": 3
   },
   "file_extension": ".py",
   "mimetype": "text/x-python",
   "name": "python",
   "nbconvert_exporter": "python",
   "pygments_lexer": "ipython3",
   "version": "3.12.7"
  }
 },
 "nbformat": 4,
 "nbformat_minor": 2
}
